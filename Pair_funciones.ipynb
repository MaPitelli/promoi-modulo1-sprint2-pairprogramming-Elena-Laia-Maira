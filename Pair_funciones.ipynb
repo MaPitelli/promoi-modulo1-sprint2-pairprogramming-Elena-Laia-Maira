{
 "cells": [
  {
   "cell_type": "markdown",
   "metadata": {},
   "source": [
    "# 1 Calcular el área de un círculo.\n",
    "\n",
    "Descripción: Crea una función llamada calcular_area_circulo que tome el radio como parámetro y devuelva el área del círculo.\n",
    "\n",
    "NOTA: Os dejamos aquí un link para recordar comose calculaba el área de un círculo."
   ]
  },
  {
   "cell_type": "code",
   "execution_count": null,
   "metadata": {},
   "outputs": [],
   "source": [
    "import math\n",
    "\n",
    "def calcular_area_circulo(radio):\n",
    "    area = math.pi * (radio**2)\n",
    "    return area \n",
    "\n",
    "radio = 3\n",
    "print(f\"El área del círculo es {calcular_area_circulo(radio):.2f} cm2\")"
   ]
  },
  {
   "cell_type": "markdown",
   "metadata": {},
   "source": [
    "# 2 Contar la cantidad de caracteres en una cadena.\n",
    "\n",
    "Descripción: Crea una función llamada contar_caracteres que tome una cadena como parámetro y devuelva la cantidad de caracteres que contiene."
   ]
  },
  {
   "cell_type": "code",
   "execution_count": null,
   "metadata": {},
   "outputs": [],
   "source": [
    "def contar_caracteres(cadena):\n",
    "    return len(cadena)\n",
    "\n",
    "cadena_texto = \"nos gusta la pasta\"\n",
    "print(f\"El número de caracteres de texto es {contar_caracteres(cadena_texto)}\")"
   ]
  },
  {
   "cell_type": "markdown",
   "metadata": {},
   "source": [
    "# 3 Determinar si una cadena es un palíndromo.\n",
    "\n",
    "Descripción: Crea una función llamada es_palindromo que tome una cadena como parámetro y devuelva True si es un palíndromo, o False si no lo es."
   ]
  },
  {
   "cell_type": "code",
   "execution_count": 3,
   "metadata": {},
   "outputs": [
    {
     "name": "stdout",
     "output_type": "stream",
     "text": [
      "True\n"
     ]
    }
   ],
   "source": [
    "def es_palindromo(cadena):\n",
    "    cadena.split()\n",
    "    cadena_inversa = cadena[::-1]\n",
    "    if cadena == cadena_inversa:\n",
    "        return True\n",
    "    else:\n",
    "        return False\n",
    "    \n",
    "palabra = \"anilina\"\n",
    "print(es_palindromo(palabra))"
   ]
  },
  {
   "cell_type": "markdown",
   "metadata": {},
   "source": [
    "#  4 Calcular el promedio de una lista de números.\n",
    "\n",
    "Descripción: Crea una función llamada calcular_promedio que tome una lista de números como parámetro y devuelva el promedio de todos sus elementos."
   ]
  },
  {
   "cell_type": "code",
   "execution_count": 1,
   "metadata": {},
   "outputs": [
    {
     "data": {
      "text/plain": [
       "4.8"
      ]
     },
     "execution_count": 1,
     "metadata": {},
     "output_type": "execute_result"
    }
   ],
   "source": [
    "def media_num(num1,num2,num3,num4,num5):\n",
    "    return (num1 + num2+ num3+ num4 +num5) / 5\n",
    "\n",
    "promedio = media_num(2, 4, 5, 6, 7)\n",
    "promedio"
   ]
  },
  {
   "cell_type": "markdown",
   "metadata": {},
   "source": [
    "# 5 Calcular el interés compuesto\n",
    "Descripción: Crea una función llamada calcular_interes_compuesto que tome el capital inicial, la tasa de interés y el número de períodos como parámetros y devuelva el beneficio final después del interés compuesto"
   ]
  },
  {
   "cell_type": "code",
   "execution_count": null,
   "metadata": {},
   "outputs": [],
   "source": []
  }
 ],
 "metadata": {
  "kernelspec": {
   "display_name": "base",
   "language": "python",
   "name": "python3"
  },
  "language_info": {
   "codemirror_mode": {
    "name": "ipython",
    "version": 3
   },
   "file_extension": ".py",
   "mimetype": "text/x-python",
   "name": "python",
   "nbconvert_exporter": "python",
   "pygments_lexer": "ipython3",
   "version": "3.11.9"
  }
 },
 "nbformat": 4,
 "nbformat_minor": 2
}
