{
 "cells": [
  {
   "cell_type": "markdown",
   "metadata": {},
   "source": [
    "# Pair programming Expresiones Regulares"
   ]
  },
  {
   "cell_type": "markdown",
   "metadata": {},
   "source": [
    "\n",
    "Validar un número de teléfono.\n",
    "\n",
    "Descripción: Verificar si una cadena representa un número de teléfono válido en el formato (XXX) XXX-XXXX.\n",
    "\n",
    "Probad para cada uno de los teléfonos que tenemos en la siguiente lista:\n",
    "\n",
    "telefonos = [\"(123) 456-7890\", \"178 1890-733\", \"(555) 238-1987\", \"(123) 4560-7890\", \"(ABC) 098-1111\"]"
   ]
  },
  {
   "cell_type": "code",
   "execution_count": 4,
   "metadata": {},
   "outputs": [
    {
     "name": "stdout",
     "output_type": "stream",
     "text": [
      "Los teléfonos válidos son: <re.Match object; span=(0, 14), match='(123) 456-7890'>\n",
      "Los teléfonos válidos son: None\n",
      "Los teléfonos válidos son: <re.Match object; span=(0, 14), match='(555) 238-1987'>\n",
      "Los teléfonos válidos son: None\n",
      "Los teléfonos válidos son: None\n"
     ]
    }
   ],
   "source": [
    "# Ejercicio 1\n",
    "import re\n",
    "telefonos = [\"(123) 456-7890\", \"178 1890-733\", \"(555) 238-1987\", \"(123) 4560-7890\", \"(ABC) 098-1111\"]\n",
    "\n",
    "for i in telefonos:\n",
    "    patron= r\"^\\(\\d{3}\\)\\s\\d{3}-\\d{4}\"\n",
    "    print(f\"Los teléfonos válidos son: {re.search(patron,i)}\")"
   ]
  },
  {
   "cell_type": "markdown",
   "metadata": {},
   "source": [
    "\n",
    "Buscar todas las direcciones de correo electrónico en un texto.\n",
    "\n",
    "Descripción: Encontrar todas las direcciones de correo electrónico presentes en una cadena de texto.\n",
    "\n",
    "Probad con el siguiente string:\n",
    "texto = \"Mi correo es user@example.com. Contacta conmigo en john.doe@email.com\""
   ]
  },
  {
   "cell_type": "code",
   "execution_count": 7,
   "metadata": {},
   "outputs": [
    {
     "data": {
      "text/plain": [
       "['user@example.com', 'john.doe@email.com']"
      ]
     },
     "execution_count": 7,
     "metadata": {},
     "output_type": "execute_result"
    }
   ],
   "source": [
    "# ejercicio 2\n",
    "texto = \"Mi correo es user@example.com. Contacta conmigo en john.doe@email.com\"\n",
    "patron= \"\\w+\\.?\\w+@\\w+\\.com\"\n",
    "re.findall(patron,texto)"
   ]
  },
  {
   "cell_type": "markdown",
   "metadata": {},
   "source": [
    "Validar un código postal.\n",
    "\n",
    "Descripción: Verificar si una cadena representa un código postal válido de 5 dígitos.\n",
    "\n",
    "Probad para cada uno de los códigos postales que tenemos en la siguiente lista:\n",
    "codigos_postales = [\"12345\", \"190037\", \"78409\", \"986449\", \"19305\"]"
   ]
  },
  {
   "cell_type": "code",
   "execution_count": 11,
   "metadata": {},
   "outputs": [
    {
     "name": "stdout",
     "output_type": "stream",
     "text": [
      "Los códigos postales válidos son: ['12345']\n",
      "Los códigos postales válidos son: ['19003']\n",
      "Los códigos postales válidos son: ['78409']\n",
      "Los códigos postales válidos son: ['98644']\n",
      "Los códigos postales válidos son: ['19305']\n"
     ]
    }
   ],
   "source": [
    "# Ejercicio 3\n",
    "codigos_postales = [\"12345\", \"190037\", \"78409\", \"986449\", \"19305\"]\n",
    "patron= \"(\\d{5})\"\n",
    "for i in codigos_postales:\n",
    "    print(f\"Los códigos postales válidos son: {re.findall(patron,i)}\")\n"
   ]
  },
  {
   "cell_type": "markdown",
   "metadata": {},
   "source": [
    "\n",
    "Encontrar todas las palabras que comienzan con una vocal en un texto.\n",
    "\n",
    "Descripción: Encontrar todas las palabras en un texto que comienzan con una vocal (a, e, i, o, u).\n",
    "\n",
    "Probad con el siguiente string:\n",
    "texto = \"El perro está ladrando. Ana tiene una manzana. La casa es grande.\""
   ]
  },
  {
   "cell_type": "code",
   "execution_count": null,
   "metadata": {},
   "outputs": [],
   "source": [
    "# Ejercicio 4\n",
    "texto = \"El perro está ladrando. Ana tiene una manzana. La casa es grande.\"\n",
    "\n",
    "patron= ^[a,e,i,o,u]"
   ]
  }
 ],
 "metadata": {
  "kernelspec": {
   "display_name": "base",
   "language": "python",
   "name": "python3"
  },
  "language_info": {
   "codemirror_mode": {
    "name": "ipython",
    "version": 3
   },
   "file_extension": ".py",
   "mimetype": "text/x-python",
   "name": "python",
   "nbconvert_exporter": "python",
   "pygments_lexer": "ipython3",
   "version": "3.11.9"
  }
 },
 "nbformat": 4,
 "nbformat_minor": 2
}
