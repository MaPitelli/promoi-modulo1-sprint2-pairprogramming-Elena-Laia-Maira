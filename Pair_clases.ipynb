{
 "cells": [
  {
   "cell_type": "markdown",
   "metadata": {},
   "source": [
    " \n",
    "En este ejercicio de pair programming, vamos a crear una clase para gestionar la información de los empleados de nuestra empresa. Siguiendo las indicaciones del jefe, necesitamos organizar los datos de cada empleado de manera más estructurada.\n",
    "\n",
    "La clase Empleados permite gestionar información relacionada con los empleados de una empresa, con las siguientes características:\n",
    "\n",
    "Debes crear una clase llamada \"Empleados\" que tenga los siguientes atributos: nombre, apellidos, edad, posicion, año , vacaciones(cantidad de días de vacaciones que le quedan al empleado) y herramientas.\n",
    "\n",
    "El constructor __init__ debe recibir estos atributos como parámetros y asignarlos a los respectivos atributos de la clase.\n",
    "\n",
    "Los atributos representan la información personal y profesional de un empleado, como su nombre completo, edad, posición en la empresa, año de ingreso, días de vacaciones disponibles y una lista de herramientas que el empleado sabe utilizar.\n",
    "\n",
    "Los métodos que debe recibir esta clase son:\n",
    "\n",
    "Método \n",
    "descripcion\n",
    ": Proporciona una descripción del empleado, incluyendo su nombre, posición en la empresa, y la cantidad de días de vacaciones que le quedan para el año actual. \n",
    "\n",
    "Los pasos para resolver el ejercicio del método descripcion son:\n",
    "\n",
    "Utilizar F-Strings: Utiliza f-strings para construir la descripción del empleado de manera legible y eficiente.\n",
    "\n",
    "Especificar los Atributos a Incluir: Determina cuáles de los atributos del empleado se deben incluir en la descripción. Los atributos necesarios son nombre, posicion, año, y vacaciones.\n",
    "\n",
    "Concatenar los Atributos: Usar f-strings para concatenar los atributos seleccionados y crear una descripción coherente.\n",
    "\n",
    "Método \n",
    "cambiando_posicion\n",
    ": Verifica las herramientas que el empleado tiene en su lista y devuelve un mensaje específico basado en las herramientas. Puede elogiar al empleado si tiene \"Python\" en su lista o sugerirle que deje de usar \"Excel\" y aprenda Python. Los pasos para resolver este ejercicio son:\n",
    "\n",
    "Iterar a través de las Herramientas: La función debe recorrer la lista de herramientas (self.herramientas) del empleado.\n",
    "\n",
    "Evaluar Cada Herramienta: Para cada herramienta en la lista, verifica si es igual a \"Python\" o \"Excel\" (en minúsculas)."
   ]
  },
  {
   "cell_type": "code",
   "execution_count": 45,
   "metadata": {},
   "outputs": [],
   "source": [
    "class Empleados:\n",
    "    \n",
    "    def __init__(self, nombre, apellidos, edad, posicion, fecha_ingreso, vacaciones, herramientas):\n",
    "        self.nombre = nombre\n",
    "        self.apellidos = apellidos\n",
    "        self.edad = edad\n",
    "        self.posicion = posicion\n",
    "        self.fecha_ingreso = fecha_ingreso\n",
    "        self.vacaciones = vacaciones\n",
    "        self.herramientas = herramientas\n",
    "\n",
    "    def descripcion(self, anio_actual):\n",
    "        self.anio_actual = anio_actual\n",
    "        print(f\"El nombre del empleado es: {self.nombre}.\\nSu posición en la empresa es: {self.posicion}.\\nLos días de vacaciones para el año: {self.anio_actual} que le quedan son: {self.vacaciones}.\")\n",
    "         \n",
    "    def cambiando_posicion(self):\n",
    "        mensaje_herramientas = \"Las herramientas del empleado son: \"\n",
    "        for herramienta in self.herramientas:\n",
    "            mensaje_herramientas += herramienta + \", \"\n",
    "        print(mensaje_herramientas[:-2] + \".\")\n",
    "        for herramienta in self.herramientas:\n",
    "            if herramienta.lower() == \"excel\":\n",
    "                print(f\"Aconsejamos que dejes de usar Excel y aprendas Python.\")\n",
    "            elif herramienta.lower() == \"python\":\n",
    "                print(f\"Python es una herramienta top, eres un(a) crack!\")\n",
    "            \n",
    "    def calcular_antiguedad(self, fecha_actual):\n",
    "        pass\n"
   ]
  },
  {
   "cell_type": "markdown",
   "metadata": {},
   "source": [
    "Método \n",
    "calcular_antiguedad\n",
    ": Calcula la antigüedad del empleado en años y meses desde el año de ingreso hasta la fecha actual.\n",
    "\n",
    "Calcular la Antigüedad en Años y Meses: Utiliza el módulo datetime de Python para obtener el año actual y el mes actual.\n",
    "\n",
    "Generar el Mensaje de Antigüedad: Usa los valores calculados para años y meses de antigüedad para generar un mensaje descriptivo. Por ejemplo, \"Juan lleva 5 años y 3 meses en la empresa\"."
   ]
  },
  {
   "cell_type": "code",
   "execution_count": 46,
   "metadata": {},
   "outputs": [],
   "source": [
    "empleado1 = Empleados(\"María\", \"López\", 35, \"Diseñadora\", 2018, 14, [\"ordenador\", \"ratón\", \"Python\", \"pantalla extra\"])"
   ]
  },
  {
   "cell_type": "code",
   "execution_count": 47,
   "metadata": {},
   "outputs": [
    {
     "name": "stdout",
     "output_type": "stream",
     "text": [
      "El nombre del empleado es: María.\n",
      "Su posición en la empresa es: Diseñadora.\n",
      "Los días de vacaciones para el año: 2024 que le quedan son: 14.\n"
     ]
    }
   ],
   "source": [
    "empleado1.descripcion(2024)"
   ]
  },
  {
   "cell_type": "code",
   "execution_count": 48,
   "metadata": {},
   "outputs": [
    {
     "data": {
      "text/plain": [
       "14"
      ]
     },
     "execution_count": 48,
     "metadata": {},
     "output_type": "execute_result"
    }
   ],
   "source": [
    "empleado1.vacaciones"
   ]
  },
  {
   "cell_type": "code",
   "execution_count": 49,
   "metadata": {},
   "outputs": [
    {
     "name": "stdout",
     "output_type": "stream",
     "text": [
      "Las herramientas del empleado son: ordenador, ratón, Python, pantalla extra.\n",
      "Python es una herramienta top, eres un(a) crack!\n"
     ]
    }
   ],
   "source": [
    "empleado1.cambiando_posicion()"
   ]
  },
  {
   "cell_type": "code",
   "execution_count": null,
   "metadata": {},
   "outputs": [],
   "source": []
  }
 ],
 "metadata": {
  "kernelspec": {
   "display_name": "base",
   "language": "python",
   "name": "python3"
  },
  "language_info": {
   "codemirror_mode": {
    "name": "ipython",
    "version": 3
   },
   "file_extension": ".py",
   "mimetype": "text/x-python",
   "name": "python",
   "nbconvert_exporter": "python",
   "pygments_lexer": "ipython3",
   "version": "3.11.9"
  }
 },
 "nbformat": 4,
 "nbformat_minor": 2
}
