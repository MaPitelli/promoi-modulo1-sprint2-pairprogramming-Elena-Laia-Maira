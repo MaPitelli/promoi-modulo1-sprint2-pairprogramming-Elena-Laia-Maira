{
 "cells": [
  {
   "cell_type": "markdown",
   "metadata": {},
   "source": [
    " \n",
    "En este ejercicio de pair programming, vamos a crear una clase para gestionar la información de los empleados de nuestra empresa. Siguiendo las indicaciones del jefe, necesitamos organizar los datos de cada empleado de manera más estructurada.\n",
    "\n",
    "La clase Empleados permite gestionar información relacionada con los empleados de una empresa, con las siguientes características:\n",
    "\n",
    "Debes crear una clase llamada \"Empleados\" que tenga los siguientes atributos: nombre, apellidos, edad, posicion, año , vacaciones(cantidad de días de vacaciones que le quedan al empleado) y herramientas.\n",
    "\n",
    "El constructor __init__ debe recibir estos atributos como parámetros y asignarlos a los respectivos atributos de la clase.\n",
    "\n",
    "Los atributos representan la información personal y profesional de un empleado, como su nombre completo, edad, posición en la empresa, año de ingreso, días de vacaciones disponibles y una lista de herramientas que el empleado sabe utilizar.\n",
    "\n",
    "Los métodos que debe recibir esta clase son:\n",
    "\n",
    "Método \n",
    "descripcion\n",
    ": Proporciona una descripción del empleado, incluyendo su nombre, posición en la empresa, y la cantidad de días de vacaciones que le quedan para el año actual. \n",
    "\n",
    "Los pasos para resolver el ejercicio del método descripcion son:\n",
    "\n",
    "Utilizar F-Strings: Utiliza f-strings para construir la descripción del empleado de manera legible y eficiente.\n",
    "\n",
    "Especificar los Atributos a Incluir: Determina cuáles de los atributos del empleado se deben incluir en la descripción. Los atributos necesarios son nombre, posicion, año, y vacaciones.\n",
    "\n",
    "Concatenar los Atributos: Usar f-strings para concatenar los atributos seleccionados y crear una descripción coherente.\n",
    "\n",
    "Método \n",
    "cambiando_posicion\n",
    ": Verifica las herramientas que el empleado tiene en su lista y devuelve un mensaje específico basado en las herramientas. Puede elogiar al empleado si tiene \"Python\" en su lista o sugerirle que deje de usar \"Excel\" y aprenda Python. Los pasos para resolver este ejercicio son:\n",
    "\n",
    "Iterar a través de las Herramientas: La función debe recorrer la lista de herramientas (self.herramientas) del empleado.\n",
    "\n",
    "Evaluar Cada Herramienta: Para cada herramienta en la lista, verifica si es igual a \"Python\" o \"Excel\" (en minúsculas)."
   ]
  },
  {
   "cell_type": "code",
   "execution_count": 10,
   "metadata": {},
   "outputs": [],
   "source": [
    "from datetime import date\n",
    "\n",
    "class Empleados:\n",
    "    \n",
    "    def __init__(self, nombre, apellidos, edad, posicion, anio_ingreso, mes_ingreso, dia_ingreso, vacaciones, herramientas):\n",
    "        self.nombre = nombre\n",
    "        self.apellidos = apellidos\n",
    "        self.edad = edad\n",
    "        self.posicion = posicion\n",
    "        self.fecha_ingreso = date(anio_ingreso, mes_ingreso, dia_ingreso)\n",
    "        self.vacaciones = vacaciones\n",
    "        self.herramientas = herramientas\n",
    "\n",
    "    def descripcion(self, anio_actual):\n",
    "        self.anio_actual = anio_actual\n",
    "        print(f\"El nombre del empleado es: {self.nombre}.\\nSu posición en la empresa es: {self.posicion}.\\nLos días de vacaciones para el año: {self.anio_actual} que le quedan son: {self.vacaciones}.\")\n",
    "         \n",
    "    def cambiando_posicion(self):\n",
    "        mensaje_herramientas = \"Las herramientas del empleado son: \"\n",
    "        for herramienta in self.herramientas:\n",
    "            mensaje_herramientas += herramienta + \", \"\n",
    "        print(mensaje_herramientas[:-2] + \".\")\n",
    "        for herramienta in self.herramientas:\n",
    "            if herramienta.lower() == \"excel\":\n",
    "                print(f\"Aconsejamos que dejes de usar Excel y aprendas Python.\")\n",
    "            elif herramienta.lower() == \"python\":\n",
    "                print(f\"Python es una herramienta top, eres un(a) crack!\")\n",
    "\n",
    "    def calcular_antiguedad(self):\n",
    "        from datetime import date \n",
    "        fecha_actual = date.today()\n",
    "          # Cálculo de años de antigüedad\n",
    "        years = fecha_actual.year - self.fecha_ingreso.year\n",
    "        \n",
    "        # Cálculo de meses de antigüedad\n",
    "        months = fecha_actual.month - self.fecha_ingreso.month\n",
    "\n",
    "       # Generar mensaje descriptivo\n",
    "        mensaje = f\"{self.nombre} lleva {years} años y {months} meses en la empresa.\"\n",
    "        return mensaje\n",
    "    \n",
    "    def aumento_vacaciones(self, dias_solicitados):\n",
    "        \n",
    "        if dias_solicitados > 0:\n",
    "            self.vacaciones += dias_solicitados\n",
    "            print(f\"Confirmado, has solicitado {dias_solicitados} días, ahora tus dias de vacaciones aumentados son {self.vacaciones}.\")\n",
    "        \n",
    "        else:\n",
    "            (print(\"La solicitud debe ser un número positivo.\"))\n",
    "\n",
    "    def registrar_herramienta(self, nueva_herramienta):\n",
    "        self.nueva_herramienta = nueva_herramienta\n",
    "\n",
    "        for herramientas in self.herramientas:\n",
    "\n",
    "            if nueva_herramienta is not self.herramientas:\n",
    "                self.herramientas.append(nueva_herramienta)\n",
    "                print(f\"Confirmado, la herramienta {nueva_herramienta} se ha incluido en el listado\")\n",
    "                print(self.herramientas)\n",
    "            else:\n",
    "                print(f\"La herramienta {nueva_herramienta} ya ha sido registrada antes\")\n",
    "\n",
    "    def cambiar_posicion(self, nueva_posicion, nuevo_salario):\n",
    "        self.nueva_posicion = nueva_posicion\n",
    "        self.nuevo_salario = nuevo_salario\n",
    "        self.posicion = nueva_posicion\n",
    "        print(f\"Felicidades {self.nombre}, tu nueva posición es {nueva_posicion} y tu salario es {nuevo_salario}€ anuales\")\n",
    "\n",
    "    def tomar_vacaciones(self, dias_solicitados):\n",
    "        self.dias_solicitados = int(input(\"¿Cuántos dias quieres tomar de vacaciones?\"))\n",
    "        \n",
    "        while self.vacaciones > 0 and self.dias_solicitados >= 1:\n",
    "            int(input(\"¿Cuántos dias quieres tomar de vacaciones?\"))\n",
    "\n",
    "            if self.dias_solicitados <= self.vacaciones:\n",
    "                self.vacaciones -= self.dias_solicitados\n",
    "                print(f\"Confirmado, has solicitado {dias_solicitados} días, ahora tus dias de vacaciones restantes son {self.vacaciones}.\")\n",
    "                break\n",
    "            \n",
    "            else:\n",
    "                print(\"Lo siento, no tienes suficientes días\")\n",
    "                break\n",
    "    \n",
    "        else:\n",
    "            print(\"Error: valor no válido, ingrese nuevamente\")\n",
    "            \n",
    "            \n",
    "\n",
    "\n"
   ]
  },
  {
   "cell_type": "code",
   "execution_count": 12,
   "metadata": {},
   "outputs": [
    {
     "name": "stdout",
     "output_type": "stream",
     "text": [
      "Confirmado, has solicitado 5 días, ahora tus dias de vacaciones aumentados son 25.\n",
      "None\n",
      "Felicidades Juan, tu nueva posición es Programador Senior y tu salario es 45000€ anuales\n",
      "Programador Senior\n",
      "Confirmado, has solicitado 7 días, ahora tus dias de vacaciones restantes son 18.\n"
     ]
    }
   ],
   "source": [
    "empleado1 = Empleados(\"María\", \"López\", 35, \"Diseñadora\", 2018,5,10, 14, [\"ordenador\", \"ratón\", \"Excel\", \"pantalla extra\"])\n",
    "empleado2 = Empleados(\"Juan\",\"Gutiérrez\",30,\"programador\",2020,4,14,20,[\"ordenador\", \"Java\", \"Python\",\"pantalla extra\"])\n",
    "\n",
    "print(empleado2.aumento_vacaciones(5))\n",
    "empleado2.cambiar_posicion(\"Programador Senior\", 45000)\n",
    "print(empleado2.posicion)\n",
    "empleado2.tomar_vacaciones(7)\n",
    "\n"
   ]
  },
  {
   "cell_type": "code",
   "execution_count": null,
   "metadata": {},
   "outputs": [],
   "source": [
    "empleado1.descripcion(2024)"
   ]
  },
  {
   "cell_type": "code",
   "execution_count": null,
   "metadata": {},
   "outputs": [],
   "source": [
    "empleado1.vacaciones"
   ]
  },
  {
   "cell_type": "code",
   "execution_count": null,
   "metadata": {},
   "outputs": [],
   "source": [
    "empleado1.cambiando_posicion()"
   ]
  },
  {
   "cell_type": "code",
   "execution_count": null,
   "metadata": {},
   "outputs": [],
   "source": []
  }
 ],
 "metadata": {
  "kernelspec": {
   "display_name": "base",
   "language": "python",
   "name": "python3"
  },
  "language_info": {
   "codemirror_mode": {
    "name": "ipython",
    "version": 3
   },
   "file_extension": ".py",
   "mimetype": "text/x-python",
   "name": "python",
   "nbconvert_exporter": "python",
   "pygments_lexer": "ipython3",
   "version": "3.11.9"
  }
 },
 "nbformat": 4,
 "nbformat_minor": 2
}
